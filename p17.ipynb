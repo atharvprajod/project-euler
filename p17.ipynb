{
 "cells": [
  {
   "cell_type": "code",
   "execution_count": 113,
   "metadata": {},
   "outputs": [],
   "source": [
    "ones = {\n",
    "    1: 'one', \n",
    "    2: 'two',\n",
    "    3: 'three',\n",
    "    4: 'four',\n",
    "    5: 'five',\n",
    "    6: 'six',\n",
    "    7: 'seven',\n",
    "    8: 'eight',\n",
    "    9: 'nine',\n",
    "    10: 'ten',\n",
    "    11: 'eleven',\n",
    "    12: 'twelve',\n",
    "    13: 'thirteen',\n",
    "    14: 'fourteen',\n",
    "    15: 'fifteen',\n",
    "    16: 'sixteen',\n",
    "    17: 'seventeen',\n",
    "    18: 'eighteen',\n",
    "    19: 'nineteen'\n",
    "}\n",
    "\n",
    "tens = {\n",
    "    20: 'twenty',\n",
    "    30: 'thirty',\n",
    "    40: 'forty',\n",
    "    50: 'fifty',\n",
    "    60: 'sixty',\n",
    "    70: 'seventy',\n",
    "    80: 'eighty',\n",
    "    90: 'ninety'\n",
    "}"
   ]
  },
  {
   "cell_type": "code",
   "execution_count": 121,
   "metadata": {},
   "outputs": [],
   "source": [
    "def number_mapping(n):\n",
    "    if 0 < n < 20:\n",
    "        return ones[n]\n",
    "    elif 20 <= n < 100:\n",
    "        return tens[(n//10) * 10] + (ones[n%10] if n%10 != 0 else \"\")\n",
    "    elif 100 <= n <= 999:\n",
    "        return ones[n//100] + 'hundred' + ('and' + number_mapping(n%100) if n%100 != 0 else \"\")\n",
    "    elif n == 1000:\n",
    "        return 'onethousand'"
   ]
  },
  {
   "cell_type": "code",
   "execution_count": 124,
   "metadata": {},
   "outputs": [],
   "source": [
    "result = 0\n",
    "for i in range(1, 1001):\n",
    "    result += len(number_mapping(i))"
   ]
  },
  {
   "cell_type": "code",
   "execution_count": 125,
   "metadata": {},
   "outputs": [
    {
     "data": {
      "text/plain": [
       "21124"
      ]
     },
     "execution_count": 125,
     "metadata": {},
     "output_type": "execute_result"
    }
   ],
   "source": [
    "result"
   ]
  }
 ],
 "metadata": {
  "kernelspec": {
   "display_name": "base",
   "language": "python",
   "name": "python3"
  },
  "language_info": {
   "codemirror_mode": {
    "name": "ipython",
    "version": 3
   },
   "file_extension": ".py",
   "mimetype": "text/x-python",
   "name": "python",
   "nbconvert_exporter": "python",
   "pygments_lexer": "ipython3",
   "version": "3.9.12"
  },
  "orig_nbformat": 4
 },
 "nbformat": 4,
 "nbformat_minor": 2
}
