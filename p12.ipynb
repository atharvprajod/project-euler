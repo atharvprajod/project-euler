{
 "cells": [
  {
   "cell_type": "code",
   "execution_count": 69,
   "metadata": {},
   "outputs": [],
   "source": [
    "import itertools\n",
    "from math import isqrt"
   ]
  },
  {
   "cell_type": "code",
   "execution_count": 70,
   "metadata": {},
   "outputs": [],
   "source": [
    "def triangular_numbers():\n",
    "    triangle = 0\n",
    "    for i in itertools.count():\n",
    "        triangle += i\n",
    "        if num_divisors(triangle) >= 500:\n",
    "            return triangle\n"
   ]
  },
  {
   "cell_type": "code",
   "execution_count": 76,
   "metadata": {},
   "outputs": [],
   "source": [
    "def num_divisors(n):\n",
    "    divisors = set()\n",
    "    for i in range(1, isqrt(n) + 1):\n",
    "        if n % i == 0:\n",
    "            # basic intuition is that if number is divisible by i, then it is also divisible by the multiple of i with n.\n",
    "            divisors.add(i)\n",
    "            divisors.add(n // i)\n",
    "    return len(list(divisors))"
   ]
  },
  {
   "cell_type": "code",
   "execution_count": 77,
   "metadata": {},
   "outputs": [
    {
     "data": {
      "text/plain": [
       "76576500"
      ]
     },
     "execution_count": 77,
     "metadata": {},
     "output_type": "execute_result"
    }
   ],
   "source": [
    "triangular_numbers()"
   ]
  }
 ],
 "metadata": {
  "kernelspec": {
   "display_name": "Python 3.9.12 ('base')",
   "language": "python",
   "name": "python3"
  },
  "language_info": {
   "codemirror_mode": {
    "name": "ipython",
    "version": 3
   },
   "file_extension": ".py",
   "mimetype": "text/x-python",
   "name": "python",
   "nbconvert_exporter": "python",
   "pygments_lexer": "ipython3",
   "version": "3.9.12"
  },
  "orig_nbformat": 4,
  "vscode": {
   "interpreter": {
    "hash": "267d8229da6c77f735a7c9e118bb4667c0d7036066cfb47b9caca6a22a6a80b1"
   }
  }
 },
 "nbformat": 4,
 "nbformat_minor": 2
}
