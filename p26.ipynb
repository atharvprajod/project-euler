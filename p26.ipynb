{
 "cells": [
  {
   "cell_type": "code",
   "execution_count": 41,
   "metadata": {},
   "outputs": [],
   "source": [
    "def recurrent(denominator): \n",
    "    remainders = {}\n",
    "    numerator = 1\n",
    "    divisors = []\n",
    "\n",
    "    while numerator != 0:\n",
    "        if numerator < denominator:\n",
    "            numerator *= 10\n",
    "        else:\n",
    "            quotient, numerator = divmod(numerator, denominator)\n",
    "            divisors.append(quotient)\n",
    "        \n",
    "        if numerator in remainders:\n",
    "            return len(divisors)\n",
    "\n",
    "        remainders[numerator] = len(divisors)\n",
    "    \n",
    "    return 0"
   ]
  },
  {
   "cell_type": "code",
   "execution_count": 42,
   "metadata": {},
   "outputs": [],
   "source": [
    "highest = None\n",
    "result = None\n",
    "for i in range(1, 1000):\n",
    "    if highest is None or highest < recurrent(i):\n",
    "        highest = recurrent(i)\n",
    "        result = i"
   ]
  },
  {
   "cell_type": "code",
   "execution_count": 43,
   "metadata": {},
   "outputs": [
    {
     "data": {
      "text/plain": [
       "983"
      ]
     },
     "execution_count": 43,
     "metadata": {},
     "output_type": "execute_result"
    }
   ],
   "source": [
    "result"
   ]
  }
 ],
 "metadata": {
  "kernelspec": {
   "display_name": "base",
   "language": "python",
   "name": "python3"
  },
  "language_info": {
   "codemirror_mode": {
    "name": "ipython",
    "version": 3
   },
   "file_extension": ".py",
   "mimetype": "text/x-python",
   "name": "python",
   "nbconvert_exporter": "python",
   "pygments_lexer": "ipython3",
   "version": "3.9.12"
  },
  "orig_nbformat": 4
 },
 "nbformat": 4,
 "nbformat_minor": 2
}
