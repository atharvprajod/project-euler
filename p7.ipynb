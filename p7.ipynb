{
 "cells": [
  {
   "cell_type": "code",
   "execution_count": 10,
   "metadata": {},
   "outputs": [],
   "source": [
    "def check_prime(n):\n",
    "    # all ifs handle special cases\n",
    "    # primes can only be natural numbers greater than 1. \n",
    "    if n <= 1:\n",
    "        return False\n",
    "    # remove 2 and 3 from consideration for logic convenience\n",
    "    elif n <= 3:\n",
    "        return True\n",
    "    # check for even and multiple of 3, since only 2,3 can be the \"multiples\" of n\n",
    "    # removes numbers in consideration\n",
    "    elif n % 2 == 0 or n % 3 == 0:\n",
    "        return False\n",
    "    # start iteration at next prime num\n",
    "    i = 5\n",
    "    # use trial division method to further restrict number of primes considered\n",
    "    while i * i <= n:\n",
    "        if n % i == 0 or n % (i + 2) == 0:\n",
    "            return False\n",
    "        i += 6\n",
    "    return True"
   ]
  },
  {
   "cell_type": "code",
   "execution_count": 11,
   "metadata": {},
   "outputs": [],
   "source": [
    "def prime(n):\n",
    "    primes = []\n",
    "    num = 2\n",
    "    while len(primes) < n:\n",
    "        if check_prime(num):\n",
    "            primes.append(num)\n",
    "        num += 1\n",
    "    return primes[-1]\n",
    "        "
   ]
  },
  {
   "cell_type": "code",
   "execution_count": 12,
   "metadata": {},
   "outputs": [
    {
     "data": {
      "text/plain": [
       "104743"
      ]
     },
     "execution_count": 12,
     "metadata": {},
     "output_type": "execute_result"
    }
   ],
   "source": [
    "prime(10001)"
   ]
  },
  {
   "cell_type": "code",
   "execution_count": null,
   "metadata": {},
   "outputs": [],
   "source": []
  }
 ],
 "metadata": {
  "kernelspec": {
   "display_name": "Python 3",
   "language": "python",
   "name": "python3"
  },
  "language_info": {
   "codemirror_mode": {
    "name": "ipython",
    "version": 3
   },
   "file_extension": ".py",
   "mimetype": "text/x-python",
   "name": "python",
   "nbconvert_exporter": "python",
   "pygments_lexer": "ipython3",
   "version": "3.8.9"
  },
  "orig_nbformat": 4
 },
 "nbformat": 4,
 "nbformat_minor": 2
}
