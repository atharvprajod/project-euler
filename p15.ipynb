{
 "cells": [
  {
   "cell_type": "code",
   "execution_count": 58,
   "metadata": {},
   "outputs": [
    {
     "name": "stdout",
     "output_type": "stream",
     "text": [
      "Number of routes in a 20x20 grid: 137846528820\n"
     ]
    }
   ],
   "source": [
    "def number_of_routes(m, n):\n",
    "    dp = [[1] * n for _ in range(m)]\n",
    "    for i in range(1, m):\n",
    "        for j in range(1, n):\n",
    "            dp[i][j] = dp[i-1][j] + dp[i][j-1]\n",
    "    return dp[m - 1][n - 1]\n",
    "\n",
    "m = 21\n",
    "n = 21\n",
    "routes = number_of_routes(m, n)\n",
    "print(f\"Number of routes in a {m - 1}x{n - 1} grid: {routes}\")"
   ]
  }
 ],
 "metadata": {
  "kernelspec": {
   "display_name": "base",
   "language": "python",
   "name": "python3"
  },
  "language_info": {
   "codemirror_mode": {
    "name": "ipython",
    "version": 3
   },
   "file_extension": ".py",
   "mimetype": "text/x-python",
   "name": "python",
   "nbconvert_exporter": "python",
   "pygments_lexer": "ipython3",
   "version": "3.9.12"
  },
  "orig_nbformat": 4
 },
 "nbformat": 4,
 "nbformat_minor": 2
}
