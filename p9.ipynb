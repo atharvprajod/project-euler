{
 "cells": [
  {
   "cell_type": "markdown",
   "metadata": {},
   "source": [
    "### Use of Euclid's Formula to derive various Pythagorean triples"
   ]
  },
  {
   "cell_type": "code",
   "execution_count": 21,
   "metadata": {},
   "outputs": [],
   "source": [
    "triples = set()  # Create an empty set to store the triples\n",
    "\n",
    "#use of Euclid's Formula. But is it intuitively the best way of approaching things?\n",
    "for m in range(2, 32):  \n",
    "    for n in range(1, m):\n",
    "        a = m**2 - n**2\n",
    "        b = 2 * m * n\n",
    "        c = m ** 2 + n ** 2\n",
    "        \n",
    "        if a + b + c == 1000:  \n",
    "            triples.add((a, b, c))"
   ]
  },
  {
   "cell_type": "code",
   "execution_count": 32,
   "metadata": {},
   "outputs": [
    {
     "data": {
      "text/plain": [
       "31875000"
      ]
     },
     "execution_count": 32,
     "metadata": {},
     "output_type": "execute_result"
    }
   ],
   "source": [
    "soln = 1\n",
    "soln_2 = 1\n",
    "for i in triples:\n",
    "    soln *= i\n",
    "for i in soln:\n",
    "    soln_2 *= i\n",
    "soln_2"
   ]
  },
  {
   "cell_type": "markdown",
   "metadata": {},
   "source": [
    "### Alternative Method using Nested Loop, with range limitations at each iteration to improve runtime"
   ]
  },
  {
   "cell_type": "code",
   "execution_count": 31,
   "metadata": {},
   "outputs": [
    {
     "name": "stdout",
     "output_type": "stream",
     "text": [
      "31875000\n"
     ]
    }
   ],
   "source": [
    "perimeter = 1000\n",
    "for a in range(1, perimeter + 1):\n",
    "\tfor b in range(a + 1, perimeter + 1):\n",
    "\t\tc = perimeter - a - b\n",
    "\t\tif a**2+ b**2 == c**2:\n",
    "\t\t\t\tprint(a * b * c)"
   ]
  },
  {
   "cell_type": "code",
   "execution_count": null,
   "metadata": {},
   "outputs": [],
   "source": []
  }
 ],
 "metadata": {
  "kernelspec": {
   "display_name": "Python 3",
   "language": "python",
   "name": "python3"
  },
  "language_info": {
   "codemirror_mode": {
    "name": "ipython",
    "version": 3
   },
   "file_extension": ".py",
   "mimetype": "text/x-python",
   "name": "python",
   "nbconvert_exporter": "python",
   "pygments_lexer": "ipython3",
   "version": "3.8.9"
  },
  "orig_nbformat": 4
 },
 "nbformat": 4,
 "nbformat_minor": 2
}
