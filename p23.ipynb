{
 "cells": [
  {
   "cell_type": "code",
   "execution_count": 88,
   "metadata": {},
   "outputs": [],
   "source": [
    "divisorsum = [0] * 28123\n",
    "for i in range(1, len(divisorsum)):\n",
    "\tfor j in range(i * 2, len(divisorsum), i):\n",
    "\t\tdivisorsum[j] += i \n",
    "\n",
    "abundant_numbers = []\n",
    "for i in range(min(28123, len(divisorsum))):\n",
    "    if i < divisorsum[i]:\n",
    "        abundant_numbers.append(i)\n",
    "len(abundant_numbers)\n",
    "\n",
    "is_sum_of_abundant = [False] * 28123\n",
    "\n",
    "for i in abundant_numbers:\n",
    "    for j in abundant_numbers:\n",
    "        if i + j <= 28122:\n",
    "            is_sum_of_abundant[i + j] = True\n",
    "\n",
    "result = sum(i for i in range(28123) if not is_sum_of_abundant[i])\n"
   ]
  },
  {
   "cell_type": "code",
   "execution_count": 89,
   "metadata": {},
   "outputs": [
    {
     "data": {
      "text/plain": [
       "4179871"
      ]
     },
     "execution_count": 89,
     "metadata": {},
     "output_type": "execute_result"
    }
   ],
   "source": [
    "result"
   ]
  }
 ],
 "metadata": {
  "kernelspec": {
   "display_name": "base",
   "language": "python",
   "name": "python3"
  },
  "language_info": {
   "codemirror_mode": {
    "name": "ipython",
    "version": 3
   },
   "file_extension": ".py",
   "mimetype": "text/x-python",
   "name": "python",
   "nbconvert_exporter": "python",
   "pygments_lexer": "ipython3",
   "version": "3.9.12"
  },
  "orig_nbformat": 4
 },
 "nbformat": 4,
 "nbformat_minor": 2
}
