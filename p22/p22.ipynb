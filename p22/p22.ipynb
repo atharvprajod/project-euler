{
 "cells": [
  {
   "cell_type": "code",
   "execution_count": 100,
   "metadata": {},
   "outputs": [],
   "source": [
    "file = open('0022_names.txt')\n",
    "file = file.read()\n",
    "file = file.replace('\"', '')\n",
    "file = file.split(',')\n",
    "file = sorted(file)"
   ]
  },
  {
   "cell_type": "code",
   "execution_count": 101,
   "metadata": {},
   "outputs": [],
   "source": [
    "alphabet = {\n",
    "    'A': 1,\n",
    "    'B': 2,\n",
    "    'C': 3,\n",
    "    'D': 4,\n",
    "    'E': 5,\n",
    "    'F': 6,\n",
    "    'G': 7,\n",
    "    'H': 8,\n",
    "    'I': 9,\n",
    "    'J': 10,\n",
    "    'K': 11,\n",
    "    'L': 12,\n",
    "    'M': 13,\n",
    "    'N': 14,\n",
    "    'O': 15,\n",
    "    'P': 16,\n",
    "    'Q': 17,\n",
    "    'R': 18,\n",
    "    'S': 19,\n",
    "    'T': 20,\n",
    "    'U': 21,\n",
    "    'V': 22,\n",
    "    'W': 23,\n",
    "    'X': 24,\n",
    "    'Y': 25,\n",
    "    'Z': 26\n",
    "}"
   ]
  },
  {
   "cell_type": "code",
   "execution_count": 102,
   "metadata": {},
   "outputs": [],
   "source": [
    "count = 0 \n",
    "for i in range(len(file)):\n",
    "    word = file[i]\n",
    "    for j in word:\n",
    "        count += (i + 1) * alphabet[j]"
   ]
  },
  {
   "cell_type": "code",
   "execution_count": 103,
   "metadata": {},
   "outputs": [
    {
     "data": {
      "text/plain": [
       "871198282"
      ]
     },
     "execution_count": 103,
     "metadata": {},
     "output_type": "execute_result"
    }
   ],
   "source": [
    "count"
   ]
  },
  {
   "cell_type": "code",
   "execution_count": null,
   "metadata": {},
   "outputs": [],
   "source": []
  }
 ],
 "metadata": {
  "kernelspec": {
   "display_name": "base",
   "language": "python",
   "name": "python3"
  },
  "language_info": {
   "codemirror_mode": {
    "name": "ipython",
    "version": 3
   },
   "file_extension": ".py",
   "mimetype": "text/x-python",
   "name": "python",
   "nbconvert_exporter": "python",
   "pygments_lexer": "ipython3",
   "version": "3.9.12"
  },
  "orig_nbformat": 4
 },
 "nbformat": 4,
 "nbformat_minor": 2
}
